{
 "cells": [
  {
   "cell_type": "code",
   "execution_count": 11,
   "metadata": {},
   "outputs": [],
   "source": [
    "import numpy as np\n",
    "import serial\n",
    "import sys, os, time\n",
    "from HW.uController.uC import uC\n",
    "from GUI.getFunctions import *\n",
    "from Config.ipcfg import CFG"
   ]
  },
  {
   "cell_type": "code",
   "execution_count": 13,
   "metadata": {},
   "outputs": [],
   "source": [
    "u = uC()\n",
    "cfg = CFG()\n",
    "portp = get_port_param_dct('uc', cfg)\n",
    "u.enable_port('/dev/ttyUSB1', portp)"
   ]
  },
  {
   "cell_type": "code",
   "execution_count": 14,
   "metadata": {},
   "outputs": [],
   "source": [
    "from HW.uController.crc import ComputeHash"
   ]
  },
  {
   "cell_type": "code",
   "execution_count": 25,
   "metadata": {},
   "outputs": [
    {
     "name": "stdout",
     "output_type": "stream",
     "text": [
      "543609632\n",
      "20:66:d3:20\n"
     ]
    }
   ],
   "source": [
    "esc = 0x1b\n",
    "r = 0x72\n",
    "cmdNr = bytes(1)\n",
    "kiek = 2\n",
    "address = 0x82\n",
    "cmd = bytearray([esc, r, 1, kiek, address])\n",
    "h = ComputeHash(cmd)\n",
    "print(h)\n",
    "c32 = h.to_bytes(4, 'big')\n",
    "print(c32.hex(':'))\n",
    "\n",
    "# u.port.write()"
   ]
  }
 ],
 "metadata": {
  "kernelspec": {
   "display_name": "Python 3",
   "language": "python",
   "name": "python3"
  },
  "language_info": {
   "codemirror_mode": {
    "name": "ipython",
    "version": 3
   },
   "file_extension": ".py",
   "mimetype": "text/x-python",
   "name": "python",
   "nbconvert_exporter": "python",
   "pygments_lexer": "ipython3",
   "version": "3.10.12"
  }
 },
 "nbformat": 4,
 "nbformat_minor": 2
}
